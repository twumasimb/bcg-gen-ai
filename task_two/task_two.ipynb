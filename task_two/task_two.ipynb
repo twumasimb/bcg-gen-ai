{
 "cells": [
  {
   "cell_type": "code",
   "execution_count": 1,
   "metadata": {},
   "outputs": [
    {
     "name": "stderr",
     "output_type": "stream",
     "text": [
      "/home/twumasimb/miniconda3/envs/unsloth/lib/python3.10/site-packages/tqdm/auto.py:21: TqdmWarning: IProgress not found. Please update jupyter and ipywidgets. See https://ipywidgets.readthedocs.io/en/stable/user_install.html\n",
      "  from .autonotebook import tqdm as notebook_tqdm\n"
     ]
    },
    {
     "name": "stdout",
     "output_type": "stream",
     "text": [
      "🦥 Unsloth: Will patch your computer to enable 2x faster free finetuning.\n"
     ]
    }
   ],
   "source": [
    "import pandas as pd\n",
    "from chatbot import simple_chatbot, llm_response, print_wrapped"
   ]
  },
  {
   "cell_type": "code",
   "execution_count": 2,
   "metadata": {},
   "outputs": [],
   "source": [
    "df = pd.read_csv(\"../financial_data.csv\")"
   ]
  },
  {
   "cell_type": "code",
   "execution_count": 3,
   "metadata": {},
   "outputs": [
    {
     "data": {
      "text/html": [
       "<div>\n",
       "<style scoped>\n",
       "    .dataframe tbody tr th:only-of-type {\n",
       "        vertical-align: middle;\n",
       "    }\n",
       "\n",
       "    .dataframe tbody tr th {\n",
       "        vertical-align: top;\n",
       "    }\n",
       "\n",
       "    .dataframe thead th {\n",
       "        text-align: right;\n",
       "    }\n",
       "</style>\n",
       "<table border=\"1\" class=\"dataframe\">\n",
       "  <thead>\n",
       "    <tr style=\"text-align: right;\">\n",
       "      <th></th>\n",
       "      <th>Year</th>\n",
       "      <th>Company</th>\n",
       "      <th>Total Revenue</th>\n",
       "      <th>Net Income</th>\n",
       "      <th>Total Assets</th>\n",
       "      <th>Total Liabilities</th>\n",
       "      <th>Cashflow</th>\n",
       "      <th>Revenue Growth (%)</th>\n",
       "      <th>Net Income Growth (%)</th>\n",
       "      <th>Profit Margin</th>\n",
       "      <th>ROA</th>\n",
       "      <th>Debt to Equity</th>\n",
       "      <th>Asset Turnover</th>\n",
       "    </tr>\n",
       "  </thead>\n",
       "  <tbody>\n",
       "    <tr>\n",
       "      <th>0</th>\n",
       "      <td>2021</td>\n",
       "      <td>Apple</td>\n",
       "      <td>365817</td>\n",
       "      <td>94680</td>\n",
       "      <td>351002</td>\n",
       "      <td>287912</td>\n",
       "      <td>104038</td>\n",
       "      <td>NaN</td>\n",
       "      <td>NaN</td>\n",
       "      <td>0.258818</td>\n",
       "      <td>0.269742</td>\n",
       "      <td>4.563512</td>\n",
       "      <td>1.042208</td>\n",
       "    </tr>\n",
       "    <tr>\n",
       "      <th>1</th>\n",
       "      <td>2021</td>\n",
       "      <td>Microsoft</td>\n",
       "      <td>168088</td>\n",
       "      <td>61271</td>\n",
       "      <td>333779</td>\n",
       "      <td>191791</td>\n",
       "      <td>76740</td>\n",
       "      <td>NaN</td>\n",
       "      <td>NaN</td>\n",
       "      <td>0.364517</td>\n",
       "      <td>0.183568</td>\n",
       "      <td>1.350755</td>\n",
       "      <td>0.503591</td>\n",
       "    </tr>\n",
       "    <tr>\n",
       "      <th>2</th>\n",
       "      <td>2021</td>\n",
       "      <td>Tesla</td>\n",
       "      <td>53823</td>\n",
       "      <td>5644</td>\n",
       "      <td>62113</td>\n",
       "      <td>30548</td>\n",
       "      <td>11497</td>\n",
       "      <td>NaN</td>\n",
       "      <td>NaN</td>\n",
       "      <td>0.104862</td>\n",
       "      <td>0.090867</td>\n",
       "      <td>0.967781</td>\n",
       "      <td>0.866534</td>\n",
       "    </tr>\n",
       "    <tr>\n",
       "      <th>3</th>\n",
       "      <td>2022</td>\n",
       "      <td>Apple</td>\n",
       "      <td>394328</td>\n",
       "      <td>99803</td>\n",
       "      <td>352775</td>\n",
       "      <td>302083</td>\n",
       "      <td>122151</td>\n",
       "      <td>7.793788</td>\n",
       "      <td>5.410858</td>\n",
       "      <td>0.253096</td>\n",
       "      <td>0.282908</td>\n",
       "      <td>5.959185</td>\n",
       "      <td>1.117789</td>\n",
       "    </tr>\n",
       "    <tr>\n",
       "      <th>4</th>\n",
       "      <td>2022</td>\n",
       "      <td>Microsoft</td>\n",
       "      <td>198270</td>\n",
       "      <td>72738</td>\n",
       "      <td>364840</td>\n",
       "      <td>198298</td>\n",
       "      <td>89035</td>\n",
       "      <td>17.956071</td>\n",
       "      <td>18.715216</td>\n",
       "      <td>0.366863</td>\n",
       "      <td>0.199370</td>\n",
       "      <td>1.190679</td>\n",
       "      <td>0.543444</td>\n",
       "    </tr>\n",
       "    <tr>\n",
       "      <th>5</th>\n",
       "      <td>2022</td>\n",
       "      <td>Tesla</td>\n",
       "      <td>81462</td>\n",
       "      <td>12587</td>\n",
       "      <td>82338</td>\n",
       "      <td>36440</td>\n",
       "      <td>14724</td>\n",
       "      <td>51.351653</td>\n",
       "      <td>123.015592</td>\n",
       "      <td>0.154514</td>\n",
       "      <td>0.152870</td>\n",
       "      <td>0.793934</td>\n",
       "      <td>0.989361</td>\n",
       "    </tr>\n",
       "    <tr>\n",
       "      <th>6</th>\n",
       "      <td>2023</td>\n",
       "      <td>Apple</td>\n",
       "      <td>383285</td>\n",
       "      <td>96995</td>\n",
       "      <td>353583</td>\n",
       "      <td>290437</td>\n",
       "      <td>110543</td>\n",
       "      <td>-2.800461</td>\n",
       "      <td>-2.813543</td>\n",
       "      <td>0.253062</td>\n",
       "      <td>0.274320</td>\n",
       "      <td>4.599452</td>\n",
       "      <td>1.084003</td>\n",
       "    </tr>\n",
       "    <tr>\n",
       "      <th>7</th>\n",
       "      <td>2023</td>\n",
       "      <td>Microsoft</td>\n",
       "      <td>211915</td>\n",
       "      <td>72361</td>\n",
       "      <td>411976</td>\n",
       "      <td>205753</td>\n",
       "      <td>87582</td>\n",
       "      <td>6.882030</td>\n",
       "      <td>-0.518299</td>\n",
       "      <td>0.341462</td>\n",
       "      <td>0.175644</td>\n",
       "      <td>0.997721</td>\n",
       "      <td>0.514387</td>\n",
       "    </tr>\n",
       "    <tr>\n",
       "      <th>8</th>\n",
       "      <td>2023</td>\n",
       "      <td>Tesla</td>\n",
       "      <td>96773</td>\n",
       "      <td>14997</td>\n",
       "      <td>106618</td>\n",
       "      <td>43009</td>\n",
       "      <td>13256</td>\n",
       "      <td>18.795267</td>\n",
       "      <td>19.146739</td>\n",
       "      <td>0.154971</td>\n",
       "      <td>0.140661</td>\n",
       "      <td>0.676146</td>\n",
       "      <td>0.907661</td>\n",
       "    </tr>\n",
       "  </tbody>\n",
       "</table>\n",
       "</div>"
      ],
      "text/plain": [
       "   Year    Company  Total Revenue  Net Income  Total Assets  \\\n",
       "0  2021      Apple         365817       94680        351002   \n",
       "1  2021  Microsoft         168088       61271        333779   \n",
       "2  2021      Tesla          53823        5644         62113   \n",
       "3  2022      Apple         394328       99803        352775   \n",
       "4  2022  Microsoft         198270       72738        364840   \n",
       "5  2022      Tesla          81462       12587         82338   \n",
       "6  2023      Apple         383285       96995        353583   \n",
       "7  2023  Microsoft         211915       72361        411976   \n",
       "8  2023      Tesla          96773       14997        106618   \n",
       "\n",
       "   Total Liabilities  Cashflow  Revenue Growth (%)  Net Income Growth (%)  \\\n",
       "0             287912    104038                 NaN                    NaN   \n",
       "1             191791     76740                 NaN                    NaN   \n",
       "2              30548     11497                 NaN                    NaN   \n",
       "3             302083    122151            7.793788               5.410858   \n",
       "4             198298     89035           17.956071              18.715216   \n",
       "5              36440     14724           51.351653             123.015592   \n",
       "6             290437    110543           -2.800461              -2.813543   \n",
       "7             205753     87582            6.882030              -0.518299   \n",
       "8              43009     13256           18.795267              19.146739   \n",
       "\n",
       "   Profit Margin       ROA  Debt to Equity  Asset Turnover  \n",
       "0       0.258818  0.269742        4.563512        1.042208  \n",
       "1       0.364517  0.183568        1.350755        0.503591  \n",
       "2       0.104862  0.090867        0.967781        0.866534  \n",
       "3       0.253096  0.282908        5.959185        1.117789  \n",
       "4       0.366863  0.199370        1.190679        0.543444  \n",
       "5       0.154514  0.152870        0.793934        0.989361  \n",
       "6       0.253062  0.274320        4.599452        1.084003  \n",
       "7       0.341462  0.175644        0.997721        0.514387  \n",
       "8       0.154971  0.140661        0.676146        0.907661  "
      ]
     },
     "execution_count": 3,
     "metadata": {},
     "output_type": "execute_result"
    }
   ],
   "source": [
    "# Get the data insights \n",
    "df['Revenue Growth (%)'] = df.groupby(['Company'])['Total Revenue'].pct_change() * 100\n",
    "df['Net Income Growth (%)'] = df.groupby(['Company'])['Net Income'].pct_change() * 100\n",
    "df['Profit Margin'] = df['Net Income'] / df['Total Revenue']\n",
    "df['ROA'] = df['Net Income'] / df['Total Assets']\n",
    "df['Debt to Equity'] = df['Total Liabilities'] / (df['Total Assets'] - df['Total Liabilities'])\n",
    "df['Asset Turnover'] = df['Total Revenue'] / df['Total Assets']\n",
    "df"
   ]
  },
  {
   "cell_type": "code",
   "execution_count": 4,
   "metadata": {},
   "outputs": [
    {
     "name": "stdout",
     "output_type": "stream",
     "text": [
      "Asset Turnover:\n",
      "Apple (2022): 1.12\n",
      "Microsoft (2022): 0.54\n",
      "Tesla (2022): 0.99"
     ]
    }
   ],
   "source": [
    "query = \"What is the asset turnover, Apple, microsoft, Tesla, 2022?\"\n",
    "answer = simple_chatbot(user_query=query, df=df)\n",
    "print(answer, end='')"
   ]
  },
  {
   "cell_type": "code",
   "execution_count": 5,
   "metadata": {},
   "outputs": [
    {
     "name": "stderr",
     "output_type": "stream",
     "text": [
      "`low_cpu_mem_usage` was None, now set to True since model is quantized.\n"
     ]
    }
   ],
   "source": [
    "data_insight = llm_response(query=query, response=answer)"
   ]
  },
  {
   "cell_type": "code",
   "execution_count": 6,
   "metadata": {},
   "outputs": [
    {
     "name": "stdout",
     "output_type": "stream",
     "text": [
      ".  **Here's what the numbers mean:**  * **Asset Turnover:** This is a measure of\n",
      "how efficiently a company uses its assets to generate sales.  * **Apple (2022):\n",
      "1.12:**  Apple generated $1.12 in sales for every $1 in assets they owned. *\n",
      "**Microsoft (2022): 0.54:** Microsoft generated $0.54 in sales for every $1 in\n",
      "assets they owned. * **Tesla (2022): 0.99:** Tesla generated $0.99 in sales for\n",
      "every $1 in assets they owned.  **In simpler terms:**  * **Apple:** They're good\n",
      "at turning their assets into sales. For every dollar they have, they make $1.12\n",
      "in sales. * **Microsoft:** They're not as good at turning their assets into\n",
      "sales. For every dollar they have, they make $0.54 in sales. * **Tesla:**\n",
      "They're also good at turning their assets into sales. For every dollar they\n",
      "have, they make $0.99 in sales.    Let me know if you'd like me to explain any\n",
      "of the terms in more detail!\n"
     ]
    }
   ],
   "source": [
    "print_wrapped(data_insight, 80)"
   ]
  }
 ],
 "metadata": {
  "kernelspec": {
   "display_name": "unsloth",
   "language": "python",
   "name": "python3"
  },
  "language_info": {
   "codemirror_mode": {
    "name": "ipython",
    "version": 3
   },
   "file_extension": ".py",
   "mimetype": "text/x-python",
   "name": "python",
   "nbconvert_exporter": "python",
   "pygments_lexer": "ipython3",
   "version": "3.10.14"
  }
 },
 "nbformat": 4,
 "nbformat_minor": 2
}
